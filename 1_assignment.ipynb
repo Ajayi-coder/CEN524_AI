{
 "cells": [
  {
   "cell_type": "code",
   "execution_count": 1,
   "metadata": {},
   "outputs": [
    {
     "name": "stdout",
     "output_type": "stream",
     "text": [
      "Sum of the geometric progression is 80.0\n"
     ]
    }
   ],
   "source": [
    "# Code for sum of a geometric progression/series\n",
    "import math\n",
    "\n",
    "# Algorithm\n",
    "# 1. Read a, r, n\n",
    "# 2. Compute sum = a * (1 - r**n) / (1 - r) if r < 1\n",
    "# 3. Compute sum = a * (r**n - 1) / (r - 1) if r > 1\n",
    "# 4. Compute a / (1 - r) if n = infinity and r < 1\n",
    "# 5. Print sum\n",
    "\n",
    "# Implementation\n",
    "a = float(input(\"Enter first term: \"))\n",
    "r = float(input(\"Enter common ratio: \"))\n",
    "n = int(input(\"Enter number of terms: \"))\n",
    "\n",
    "def gp_sum(a, r, n):\n",
    "    if r == 1:\n",
    "        return a * n\n",
    "    elif r < 1:\n",
    "        return a * (1 - r**n) / (1 - r)\n",
    "    elif n == math.inf and r < 1:\n",
    "        return a / (1 - r)\n",
    "    else:\n",
    "        return a * (r**n - 1) / (r - 1)\n",
    "    \n",
    "\n",
    "print(\"Sum of the geometric progression is\", gp_sum(a, r, n))"
   ]
  },
  {
   "cell_type": "code",
   "execution_count": 2,
   "metadata": {},
   "outputs": [
    {
     "name": "stdout",
     "output_type": "stream",
     "text": [
      "Taylor series expansion of e^x at x = 1.0\n",
      "Term 0 : 0\n",
      "Term 1 : 1.0\n",
      "Term 2 : 2.0\n",
      "Term 3 : 2.5\n",
      "Term 4 : 2.6666666666666665\n"
     ]
    }
   ],
   "source": [
    "import math\n",
    "\n",
    "def factorial(n):\n",
    "    if n == 0 or n == 1:\n",
    "        return 1\n",
    "    else:\n",
    "        return n * factorial(n - 1)\n",
    "    \n",
    "\n",
    "# taylor series\n",
    "def taylor_series(x, n):\n",
    "    sum = 0\n",
    "    for i in range(n):\n",
    "        sum += (x**i) / factorial(i)\n",
    "    return sum\n",
    "\n",
    "\n",
    "# array of input terms and a is a real number\n",
    "terms = [0, 1, 2, 3, 4]\n",
    "a = 1.0\n",
    "\n",
    "print(\"Taylor series expansion of e^x at x = 1.0\")\n",
    "for i in range(len(terms)):\n",
    "    print(\"Term\", terms[i], \":\", taylor_series(a, terms[i]))"
   ]
  },
  {
   "cell_type": "code",
   "execution_count": 3,
   "metadata": {},
   "outputs": [
    {
     "name": "stdout",
     "output_type": "stream",
     "text": [
      "True\n"
     ]
    }
   ],
   "source": [
    "import math\n",
    "# factorial\n",
    "\n",
    "# Algorithm:\n",
    "# 1. Read n\n",
    "# 2. Compute factorial = 1\n",
    "# 3. For i from 1 to n:\n",
    "#    a. factorial = factorial * i\n",
    "# 4. Print factorial\n",
    "\n",
    "# Implementation\n",
    "def factorial(n):\n",
    "    result = 1\n",
    "    for i in range(1, n + 1):\n",
    "        result *= i\n",
    "    return result\n",
    "\n",
    "\n",
    "# Test the function\n",
    "print(factorial(5) == math.factorial(5))"
   ]
  },
  {
   "cell_type": "code",
   "execution_count": 4,
   "metadata": {},
   "outputs": [
    {
     "name": "stdout",
     "output_type": "stream",
     "text": [
      "Test 1: 0.7746\n",
      "Test 2: -1.0000\n",
      "Test 3: None\n"
     ]
    }
   ],
   "source": [
    "import math\n",
    "\n",
    "# Algorithm for calculating the Pearson correlation coefficient\n",
    "# between two lists of numbers.\n",
    "\n",
    "# 1. Read the two lists of numbers, x and y.\n",
    "# 2. Check if the lengths of the two lists are equal.\n",
    "# 3. Calculate the means of x and y.\n",
    "# 4. Calculate the covariance of x and y.\n",
    "# 5. Calculate the standard deviations of x and y.\n",
    "# 6. Calculate the Pearson correlation coefficient using the formula:\n",
    "#    r = covariance(x, y) / (std_dev(x) * std_dev(y))\n",
    "# 7. Return the Pearson correlation coefficient.\n",
    "# 8. If the lengths of the two lists are not equal, return None.\n",
    "# 9. If the lists are empty, return None.\n",
    "# 10. If the lists contain non-numeric values, return None.\n",
    "\n",
    "def pearson_correlation(x, y):\n",
    "    # Check if lengths are equal\n",
    "    if len(x) != len(y):\n",
    "        return None\n",
    "    \n",
    "    # Check if lists are empty\n",
    "    if len(x) == 0 or len(y) == 0:\n",
    "        return None\n",
    "    \n",
    "    try:\n",
    "        n = len(x)\n",
    "        \n",
    "        # Calculate means\n",
    "        mean_x = sum(x) / n\n",
    "        mean_y = sum(y) / n\n",
    "        \n",
    "        # Calculate covariance\n",
    "        covariance = sum((x[i] - mean_x) * (y[i] - mean_y) for i in range(n))\n",
    "        \n",
    "        # Calculate standard deviations\n",
    "        std_dev_x = math.sqrt(sum((xi - mean_x) ** 2 for xi in x))\n",
    "        std_dev_y = math.sqrt(sum((yi - mean_y) ** 2 for yi in y))\n",
    "        \n",
    "        # Check for zero standard deviation\n",
    "        if std_dev_x == 0 or std_dev_y == 0:\n",
    "            return None\n",
    "        \n",
    "        # Calculate correlation coefficient\n",
    "        r = covariance / (std_dev_x * std_dev_y)\n",
    "        \n",
    "        return r\n",
    "        \n",
    "    except (TypeError, ValueError):\n",
    "        # Handle non-numeric values\n",
    "        return None\n",
    "\n",
    "# Test the function\n",
    "if __name__ == \"__main__\":\n",
    "    # Test case 1: Positive correlation\n",
    "    x1 = [1, 2, 3, 4, 5]\n",
    "    y1 = [2, 4, 5, 4, 5]\n",
    "    print(f\"Test 1: {pearson_correlation(x1, y1):.4f}\")\n",
    "    \n",
    "    # Test case 2: Negative correlation\n",
    "    x2 = [1, 2, 3, 4, 5]\n",
    "    y2 = [5, 4, 3, 2, 1]\n",
    "    print(f\"Test 2: {pearson_correlation(x2, y2):.4f}\")\n",
    "    \n",
    "    # Test case 3: No correlation\n",
    "    x3 = [1, 2, 3, 4, 5]\n",
    "    y3 = [1, 1, 1, 1, 1]\n",
    "    print(f\"Test 3: {pearson_correlation(x3, y3)}\")\n"
   ]
  },
  {
   "cell_type": "code",
   "execution_count": 5,
   "metadata": {},
   "outputs": [
    {
     "name": "stdout",
     "output_type": "stream",
     "text": [
      "Finding the reciprocal of 5 using Newton's Iterative Formula\n",
      "Initial guess x0 = 0.1\n",
      "Iteration 1: x1 = 0.15000000000000002\n",
      "Iteration 2: x2 = 0.18750000000000003\n",
      "Iteration 3: x3 = 0.19921875000000003\n",
      "Iteration 4: x4 = 0.19999694824218753\n",
      "Iteration 5: x5 = 0.1999999999534339\n",
      "Iteration 6: x6 = 0.20000000000000004\n",
      "Iteration 7: x7 = 0.19999999999999998\n",
      "Iteration 8: x8 = 0.19999999999999998\n",
      "Iteration 9: x9 = 0.19999999999999998\n",
      "Iteration 10: x10 = 0.19999999999999998\n",
      "Approximate reciprocal of 5 after 10 iterations: 0.19999999999999998\n"
     ]
    }
   ],
   "source": [
    "# Algorithm for finding the reciprocal of a number N using Newton's Iterative Formula:\n",
    "# 1. Input the number N whose reciprocal is to be found\n",
    "# 2. Set initial guess x0 (default = 0.1)\n",
    "# 3. Set number of iterations (default = 10)\n",
    "# 4. For each iteration i from 1 to iterations:\n",
    "#    a. Calculate xi = xi-1 * (2 - xi-1 * N)\n",
    "#    b. Print current approximation\n",
    "# 5. Return final approximation of 1/N\n",
    "\n",
    "def newtons_iterative_reciprocal(N, x0=0.1, iterations=10):\n",
    "    if N == 0:\n",
    "        return None\n",
    "    \n",
    "    print(f\"Finding the reciprocal of {N} using Newton's Iterative Formula\")\n",
    "    print(f\"Initial guess x0 = {x0}\")\n",
    "    \n",
    "    xi = x0\n",
    "    for i in range(1, iterations + 1):\n",
    "        xi = xi * (2 - xi * N)\n",
    "        print(f\"Iteration {i}: x{i} = {xi}\")\n",
    "    \n",
    "    print(f\"Approximate reciprocal of {N} after {iterations} iterations: {xi}\")\n",
    "    return xi\n",
    "\n",
    "# Test the function\n",
    "if __name__ == \"__main__\":\n",
    "    N = 5\n",
    "    x0 = 0.1\n",
    "    iterations = 10\n",
    "    result = newtons_iterative_reciprocal(N, x0, iterations)"
   ]
  }
 ],
 "metadata": {
  "kernelspec": {
   "display_name": "tf310-env",
   "language": "python",
   "name": "python3"
  },
  "language_info": {
   "codemirror_mode": {
    "name": "ipython",
    "version": 3
   },
   "file_extension": ".py",
   "mimetype": "text/x-python",
   "name": "python",
   "nbconvert_exporter": "python",
   "pygments_lexer": "ipython3",
   "version": "3.10.0"
  }
 },
 "nbformat": 4,
 "nbformat_minor": 2
}
